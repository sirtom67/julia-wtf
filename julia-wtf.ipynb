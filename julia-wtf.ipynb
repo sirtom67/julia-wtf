{
 "cells": [
  {
   "cell_type": "markdown",
   "metadata": {},
   "source": [
    "## Intro"
   ]
  },
  {
   "cell_type": "markdown",
   "metadata": {},
   "source": [
    "A notebook is a good way to document code and share your thoughts with others (and with yourself in the future). Interestingly, *github displays notebooks beautifully*. By checking in this file to a public repository, github serves my blog. Since it is tracked in git, as I publish updates to it, all the history is maintained - pretty cool."
   ]
  },
  {
   "cell_type": "markdown",
   "metadata": {},
   "source": [
    "## Division Operators and Unicode"
   ]
  },
  {
   "cell_type": "markdown",
   "metadata": {},
   "source": [
    "There is a division operator - ÷ - that is the same as \"/\" (almost). Julia is a new language that has embraced unicode. This is a huge difference from MATLAB and Python. I'm not comfortable with it yet. To enter the division symbol in this Julia notebook, you can type `\\div<tab>`. As a \"vi\" user, I am now able to enter these in my favorite go-to editor, without having to copy and paste from another location - using the https://github.com/JuliaEditorSupport/julia-vim plugin. I also use \"eclipse\" - I haven't found out how to cleanly handle unicode there."
   ]
  },
  {
   "cell_type": "code",
   "execution_count": 1,
   "metadata": {
    "collapsed": false
   },
   "outputs": [
    {
     "data": {
      "text/plain": [
       "3"
      ]
     },
     "execution_count": 1,
     "metadata": {},
     "output_type": "execute_result"
    }
   ],
   "source": [
    "7÷2"
   ]
  },
  {
   "cell_type": "markdown",
   "metadata": {},
   "source": [
    "Thanks to [Kristoffer Carlsson](https://kristofferc.github.io/) for pointing out that ÷ and / are NOT in fact the same (comment on [this thread](https://discourse.julialang.org/t/julia-is-a-very-different-and-interesting-language/10741/2)). "
   ]
  },
  {
   "cell_type": "code",
   "execution_count": 2,
   "metadata": {
    "collapsed": false
   },
   "outputs": [
    {
     "name": "stdout",
     "output_type": "stream",
     "text": [
      "\"\u001b[36m÷\u001b[39m\" can be typed by \u001b[36m\\div<tab>\u001b[39m\n",
      "\n",
      "search: \u001b[1m÷\u001b[22m .\u001b[1m÷\u001b[22m\n",
      "\n"
     ]
    },
    {
     "data": {
      "text/markdown": [
       "```\n",
       "div(x, y)\n",
       "÷(x, y)\n",
       "```\n",
       "\n",
       "The quotient from Euclidean division. Computes `x/y`, truncated to an integer.\n",
       "\n",
       "```jldoctest\n",
       "julia> 9 ÷ 4\n",
       "2\n",
       "\n",
       "julia> -5 ÷ 3\n",
       "-1\n",
       "```\n"
      ],
      "text/plain": [
       "```\n",
       "div(x, y)\n",
       "÷(x, y)\n",
       "```\n",
       "\n",
       "The quotient from Euclidean division. Computes `x/y`, truncated to an integer.\n",
       "\n",
       "```jldoctest\n",
       "julia> 9 ÷ 4\n",
       "2\n",
       "\n",
       "julia> -5 ÷ 3\n",
       "-1\n",
       "```\n"
      ]
     },
     "execution_count": 2,
     "metadata": {},
     "output_type": "execute_result"
    }
   ],
   "source": [
    "?÷"
   ]
  },
  {
   "cell_type": "code",
   "execution_count": 3,
   "metadata": {
    "collapsed": false
   },
   "outputs": [
    {
     "name": "stdout",
     "output_type": "stream",
     "text": [
      "search: \u001b[1m/\u001b[22m \u001b[1m/\u001b[22m/ .\u001b[1m/\u001b[22m .\u001b[1m/\u001b[22m/\n",
      "\n"
     ]
    },
    {
     "data": {
      "text/markdown": [
       "```\n",
       "/(x, y)\n",
       "```\n",
       "\n",
       "Right division operator: multiplication of `x` by the inverse of `y` on the right. Gives floating-point results for integer arguments.\n"
      ],
      "text/plain": [
       "```\n",
       "/(x, y)\n",
       "```\n",
       "\n",
       "Right division operator: multiplication of `x` by the inverse of `y` on the right. Gives floating-point results for integer arguments.\n"
      ]
     },
     "execution_count": 3,
     "metadata": {},
     "output_type": "execute_result"
    }
   ],
   "source": [
    "?/"
   ]
  },
  {
   "cell_type": "code",
   "execution_count": 4,
   "metadata": {
    "collapsed": false
   },
   "outputs": [
    {
     "data": {
      "text/plain": [
       "3.5"
      ]
     },
     "execution_count": 4,
     "metadata": {},
     "output_type": "execute_result"
    }
   ],
   "source": [
    "7 / 2    # THIS IS NOT THE SAME AS 7 ÷ 2 - that is integer division"
   ]
  },
  {
   "cell_type": "markdown",
   "metadata": {},
   "source": [
    "## Implicit Multiplication\n",
    "Julia supports \"implicit multiplication\". So you can write code that is more math like: instead of 3*x you can just write 3x."
   ]
  },
  {
   "cell_type": "code",
   "execution_count": 5,
   "metadata": {
    "collapsed": false
   },
   "outputs": [
    {
     "data": {
      "text/plain": [
       "5"
      ]
     },
     "execution_count": 5,
     "metadata": {},
     "output_type": "execute_result"
    }
   ],
   "source": [
    "x = 5"
   ]
  },
  {
   "cell_type": "code",
   "execution_count": 6,
   "metadata": {
    "collapsed": false
   },
   "outputs": [
    {
     "data": {
      "text/plain": [
       "15"
      ]
     },
     "execution_count": 6,
     "metadata": {},
     "output_type": "execute_result"
    }
   ],
   "source": [
    "3x"
   ]
  },
  {
   "cell_type": "code",
   "execution_count": 7,
   "metadata": {
    "collapsed": false
   },
   "outputs": [
    {
     "data": {
      "text/plain": [
       "15"
      ]
     },
     "execution_count": 7,
     "metadata": {},
     "output_type": "execute_result"
    }
   ],
   "source": [
    "3 * x   # this works with spaces around the operator"
   ]
  },
  {
   "cell_type": "code",
   "execution_count": 8,
   "metadata": {
    "collapsed": false
   },
   "outputs": [
    {
     "ename": "LoadError",
     "evalue": "\u001b[91msyntax: extra token \"x\" after end of expression\u001b[39m",
     "output_type": "error",
     "traceback": [
      "\u001b[91msyntax: extra token \"x\" after end of expression\u001b[39m",
      ""
     ]
    }
   ],
   "source": [
    "3 x  # this doesn't - implicit multiplication requires NO SPACE"
   ]
  },
  {
   "cell_type": "code",
   "execution_count": 9,
   "metadata": {
    "collapsed": false
   },
   "outputs": [
    {
     "data": {
      "text/plain": [
       "17.5"
      ]
     },
     "execution_count": 9,
     "metadata": {},
     "output_type": "execute_result"
    }
   ],
   "source": [
    "3.5x   # how about a fraction?"
   ]
  },
  {
   "cell_type": "markdown",
   "metadata": {},
   "source": [
    "## Looking at Generated Code"
   ]
  },
  {
   "cell_type": "markdown",
   "metadata": {},
   "source": [
    "This one really blows my mind. (That is common). Got this from Christopher Rackauckas' blog post http://www.stochasticlifestyle.com/type-dispatch-design-post-object-oriented-programming-julia/ and had to try it."
   ]
  },
  {
   "cell_type": "code",
   "execution_count": 10,
   "metadata": {
    "collapsed": false
   },
   "outputs": [
    {
     "data": {
      "text/plain": [
       "foo_func (generic function with 1 method)"
      ]
     },
     "execution_count": 10,
     "metadata": {},
     "output_type": "execute_result"
    }
   ],
   "source": [
    "foo_func(x) = x^2"
   ]
  },
  {
   "cell_type": "code",
   "execution_count": 11,
   "metadata": {
    "collapsed": false
   },
   "outputs": [
    {
     "name": "stdout",
     "output_type": "stream",
     "text": [
      "\n",
      "define i64 @julia_foo_func_63248(i64) #0 !dbg !5 {\n",
      "top:\n",
      "  %1 = mul i64 %0, %0\n",
      "  ret i64 %1\n",
      "}\n"
     ]
    }
   ],
   "source": [
    "@code_llvm foo_func(1)"
   ]
  },
  {
   "cell_type": "code",
   "execution_count": 12,
   "metadata": {
    "collapsed": false
   },
   "outputs": [
    {
     "name": "stdout",
     "output_type": "stream",
     "text": [
      "\n",
      "define double @julia_foo_func_63252(double) #0 !dbg !5 {\n",
      "top:\n",
      "  %1 = fmul double %0, %0\n",
      "  ret double %1\n",
      "}\n"
     ]
    }
   ],
   "source": [
    "@code_llvm foo_func(1.0)"
   ]
  },
  {
   "cell_type": "markdown",
   "metadata": {},
   "source": [
    "The machine code for foo_func differs for 1 (an i64) and 1.0 (a double) and is \"performant\" - just a single LLVM instruction!\n",
    "\n",
    "Here's a function with 2 arguments, and all 4 combinations of i64 and double types for those arguments. Even though it is 1 function, julia creates a function for each combination of input types as needed!"
   ]
  },
  {
   "cell_type": "code",
   "execution_count": 13,
   "metadata": {
    "collapsed": false
   },
   "outputs": [
    {
     "data": {
      "text/plain": [
       "foo_func_17 (generic function with 1 method)"
      ]
     },
     "execution_count": 13,
     "metadata": {},
     "output_type": "execute_result"
    }
   ],
   "source": [
    "foo_func_17(x,y) = 12*x + y + 10"
   ]
  },
  {
   "cell_type": "code",
   "execution_count": 14,
   "metadata": {
    "collapsed": false
   },
   "outputs": [
    {
     "name": "stdout",
     "output_type": "stream",
     "text": [
      "\n",
      "define i64 @julia_foo_func_17_63262(i64, i64) #0 !dbg !5 {\n",
      "top:\n",
      "  %2 = mul i64 %0, 12\n",
      "  %3 = add i64 %1, 10\n",
      "  %4 = add i64 %3, %2\n",
      "  ret i64 %4\n",
      "}\n"
     ]
    }
   ],
   "source": [
    "@code_llvm foo_func_17(1,1)   # two integer arguments"
   ]
  },
  {
   "cell_type": "code",
   "execution_count": 15,
   "metadata": {
    "collapsed": false
   },
   "outputs": [
    {
     "name": "stdout",
     "output_type": "stream",
     "text": [
      "\n",
      "define double @julia_foo_func_17_63263(double, double) #0 !dbg !5 {\n",
      "top:\n",
      "  %2 = fmul double %0, 1.200000e+01\n",
      "  %3 = fadd double %2, %1\n",
      "  %4 = fadd double %3, 1.000000e+01\n",
      "  ret double %4\n",
      "}\n"
     ]
    }
   ],
   "source": [
    "@code_llvm foo_func_17(1.0,1.0)  # two double arguments"
   ]
  },
  {
   "cell_type": "code",
   "execution_count": 16,
   "metadata": {
    "collapsed": false
   },
   "outputs": [
    {
     "name": "stdout",
     "output_type": "stream",
     "text": [
      "\n",
      "define double @julia_foo_func_17_63265(double, i64) #0 !dbg !5 {\n",
      "top:\n",
      "  %2 = fmul double %0, 1.200000e+01\n",
      "  %3 = sitofp i64 %1 to double\n",
      "  %4 = fadd double %2, %3\n",
      "  %5 = fadd double %4, 1.000000e+01\n",
      "  ret double %5\n",
      "}\n"
     ]
    }
   ],
   "source": [
    "@code_llvm foo_func_17(1.0,1)  # double, integer"
   ]
  },
  {
   "cell_type": "code",
   "execution_count": 17,
   "metadata": {
    "collapsed": false
   },
   "outputs": [
    {
     "name": "stdout",
     "output_type": "stream",
     "text": [
      "\n",
      "define double @julia_foo_func_17_63267(i64, double) #0 !dbg !5 {\n",
      "top:\n",
      "  %2 = mul i64 %0, 12\n",
      "  %3 = sitofp i64 %2 to double\n",
      "  %4 = fadd double %3, %1\n",
      "  %5 = fadd double %4, 1.000000e+01\n",
      "  ret double %5\n",
      "}\n"
     ]
    }
   ],
   "source": [
    "@code_llvm foo_func_17(1,1.0)  # integer, double"
   ]
  },
  {
   "cell_type": "code",
   "execution_count": 18,
   "metadata": {
    "collapsed": false
   },
   "outputs": [
    {
     "data": {
      "text/markdown": [
       "```\n",
       "@code_llvm\n",
       "```\n",
       "\n",
       "Evaluates the arguments to the function or macro call, determines their types, and calls [`code_llvm`](@ref) on the resulting expression.\n"
      ],
      "text/plain": [
       "```\n",
       "@code_llvm\n",
       "```\n",
       "\n",
       "Evaluates the arguments to the function or macro call, determines their types, and calls [`code_llvm`](@ref) on the resulting expression.\n"
      ]
     },
     "execution_count": 18,
     "metadata": {},
     "output_type": "execute_result"
    }
   ],
   "source": [
    "?@code_llvm"
   ]
  },
  {
   "cell_type": "code",
   "execution_count": 19,
   "metadata": {
    "collapsed": false
   },
   "outputs": [
    {
     "name": "stdout",
     "output_type": "stream",
     "text": [
      "search: \u001b[1mc\u001b[22m\u001b[1mo\u001b[22m\u001b[1md\u001b[22m\u001b[1me\u001b[22m\u001b[1m_\u001b[22m\u001b[1ml\u001b[22m\u001b[1ml\u001b[22m\u001b[1mv\u001b[22m\u001b[1mm\u001b[22m @\u001b[1mc\u001b[22m\u001b[1mo\u001b[22m\u001b[1md\u001b[22m\u001b[1me\u001b[22m\u001b[1m_\u001b[22m\u001b[1ml\u001b[22m\u001b[1ml\u001b[22m\u001b[1mv\u001b[22m\u001b[1mm\u001b[22m\n",
      "\n"
     ]
    },
    {
     "data": {
      "text/markdown": [
       "```\n",
       "code_llvm([io], f, types)\n",
       "```\n",
       "\n",
       "Prints the LLVM bitcodes generated for running the method matching the given generic function and type signature to `io` which defaults to `STDOUT`.\n",
       "\n",
       "All metadata and dbg.* calls are removed from the printed bitcode. Use code_llvm_raw for the full IR.\n"
      ],
      "text/plain": [
       "```\n",
       "code_llvm([io], f, types)\n",
       "```\n",
       "\n",
       "Prints the LLVM bitcodes generated for running the method matching the given generic function and type signature to `io` which defaults to `STDOUT`.\n",
       "\n",
       "All metadata and dbg.* calls are removed from the printed bitcode. Use code_llvm_raw for the full IR.\n"
      ]
     },
     "execution_count": 19,
     "metadata": {},
     "output_type": "execute_result"
    }
   ],
   "source": [
    "?code_llvm"
   ]
  },
  {
   "cell_type": "code",
   "execution_count": 20,
   "metadata": {
    "collapsed": false
   },
   "outputs": [
    {
     "name": "stdout",
     "output_type": "stream",
     "text": [
      "search: \u001b[1mc\u001b[22m\u001b[1mo\u001b[22m\u001b[1md\u001b[22m\u001b[1me\u001b[22m\u001b[1m_\u001b[22m\u001b[1mt\u001b[22m\u001b[1my\u001b[22m\u001b[1mp\u001b[22m\u001b[1me\u001b[22m\u001b[1md\u001b[22m @\u001b[1mc\u001b[22m\u001b[1mo\u001b[22m\u001b[1md\u001b[22m\u001b[1me\u001b[22m\u001b[1m_\u001b[22m\u001b[1mt\u001b[22m\u001b[1my\u001b[22m\u001b[1mp\u001b[22m\u001b[1me\u001b[22m\u001b[1md\u001b[22m \u001b[1mc\u001b[22m\u001b[1mo\u001b[22m\u001b[1md\u001b[22m\u001b[1me\u001b[22m\u001b[1m_\u001b[22mwarn\u001b[1mt\u001b[22m\u001b[1my\u001b[22m\u001b[1mp\u001b[22m\u001b[1me\u001b[22m @\u001b[1mc\u001b[22m\u001b[1mo\u001b[22m\u001b[1md\u001b[22m\u001b[1me\u001b[22m\u001b[1m_\u001b[22mwarn\u001b[1mt\u001b[22m\u001b[1my\u001b[22m\u001b[1mp\u001b[22m\u001b[1me\u001b[22m\n",
      "\n"
     ]
    },
    {
     "data": {
      "text/markdown": [
       "```\n",
       "code_typed(f, types; optimize=true)\n",
       "```\n",
       "\n",
       "Returns an array of lowered and type-inferred ASTs for the methods matching the given generic function and type signature. The keyword argument `optimize` controls whether additional optimizations, such as inlining, are also applied.\n"
      ],
      "text/plain": [
       "```\n",
       "code_typed(f, types; optimize=true)\n",
       "```\n",
       "\n",
       "Returns an array of lowered and type-inferred ASTs for the methods matching the given generic function and type signature. The keyword argument `optimize` controls whether additional optimizations, such as inlining, are also applied.\n"
      ]
     },
     "execution_count": 20,
     "metadata": {},
     "output_type": "execute_result"
    }
   ],
   "source": [
    "?code_typed"
   ]
  },
  {
   "cell_type": "code",
   "execution_count": 21,
   "metadata": {
    "collapsed": false
   },
   "outputs": [
    {
     "data": {
      "text/plain": [
       "CodeInfo(:(begin \n",
       "        return (Base.add_int)((Base.add_int)((Base.mul_int)(12, x)::Int64, y)::Int64, 10)::Int64\n",
       "    end))=>Int64"
      ]
     },
     "execution_count": 21,
     "metadata": {},
     "output_type": "execute_result"
    }
   ],
   "source": [
    "@code_typed foo_func_17(1,1)"
   ]
  },
  {
   "cell_type": "markdown",
   "metadata": {},
   "source": [
    "## Uniform Scaling Operator"
   ]
  },
  {
   "cell_type": "code",
   "execution_count": 22,
   "metadata": {
    "collapsed": false
   },
   "outputs": [
    {
     "name": "stdout",
     "output_type": "stream",
     "text": [
      "search: \u001b[1mI\u001b[22m \u001b[1mI\u001b[22mO \u001b[1mi\u001b[22mf \u001b[1mI\u001b[22mnt \u001b[1mi\u001b[22ms \u001b[1mi\u001b[22mn \u001b[1mi\u001b[22mm \u001b[1mI\u001b[22mnf \u001b[1mi\u001b[22msa \u001b[1mI\u001b[22mnt8 \u001b[1mi\u001b[22mnv \u001b[1mI\u001b[22mPv6 \u001b[1mI\u001b[22mPv4 \u001b[1mI\u001b[22mnt64 \u001b[1mI\u001b[22mnt32 \u001b[1mI\u001b[22mnt16 \u001b[1mi\u001b[22mnfo\n",
      "\n"
     ]
    },
    {
     "data": {
      "text/markdown": [
       "```\n",
       "I\n",
       "```\n",
       "\n",
       "An object of type `UniformScaling`, representing an identity matrix of any size.\n",
       "\n",
       "# Example\n",
       "\n",
       "```jldoctest\n",
       "julia> ones(5, 6) * I == ones(5, 6)\n",
       "true\n",
       "\n",
       "julia> [1 2im 3; 1im 2 3] * I\n",
       "2×3 Array{Complex{Int64},2}:\n",
       " 1+0im  0+2im  3+0im\n",
       " 0+1im  2+0im  3+0im\n",
       "```\n"
      ],
      "text/plain": [
       "```\n",
       "I\n",
       "```\n",
       "\n",
       "An object of type `UniformScaling`, representing an identity matrix of any size.\n",
       "\n",
       "# Example\n",
       "\n",
       "```jldoctest\n",
       "julia> ones(5, 6) * I == ones(5, 6)\n",
       "true\n",
       "\n",
       "julia> [1 2im 3; 1im 2 3] * I\n",
       "2×3 Array{Complex{Int64},2}:\n",
       " 1+0im  0+2im  3+0im\n",
       " 0+1im  2+0im  3+0im\n",
       "```\n"
      ]
     },
     "execution_count": 22,
     "metadata": {},
     "output_type": "execute_result"
    }
   ],
   "source": [
    "?I"
   ]
  },
  {
   "cell_type": "code",
   "execution_count": 23,
   "metadata": {
    "collapsed": false
   },
   "outputs": [
    {
     "data": {
      "text/plain": [
       "1"
      ]
     },
     "execution_count": 23,
     "metadata": {},
     "output_type": "execute_result"
    }
   ],
   "source": [
    "I[0,0]"
   ]
  },
  {
   "cell_type": "code",
   "execution_count": 24,
   "metadata": {
    "collapsed": false
   },
   "outputs": [
    {
     "data": {
      "text/plain": [
       "0"
      ]
     },
     "execution_count": 24,
     "metadata": {},
     "output_type": "execute_result"
    }
   ],
   "source": [
    "I[0,1]"
   ]
  },
  {
   "cell_type": "markdown",
   "metadata": {},
   "source": [
    "Contrast with \"eye\" which constructs an array. \"I\" is extremely memory efficient by comparison."
   ]
  },
  {
   "cell_type": "code",
   "execution_count": 25,
   "metadata": {
    "collapsed": false
   },
   "outputs": [
    {
     "name": "stdout",
     "output_type": "stream",
     "text": [
      "search: \u001b[1me\u001b[22m\u001b[1my\u001b[22m\u001b[1me\u001b[22m K\u001b[1me\u001b[22m\u001b[1my\u001b[22m\u001b[1mE\u001b[22mrror sp\u001b[1me\u001b[22m\u001b[1my\u001b[22m\u001b[1me\u001b[22m \u001b[1me\u001b[22mlt\u001b[1my\u001b[22mp\u001b[1me\u001b[22m k\u001b[1me\u001b[22m\u001b[1my\u001b[22mtyp\u001b[1me\u001b[22m sup\u001b[1me\u001b[22mrt\u001b[1my\u001b[22mp\u001b[1me\u001b[22m cod\u001b[1me\u001b[22m_t\u001b[1my\u001b[22mp\u001b[1me\u001b[22md @cod\u001b[1me\u001b[22m_t\u001b[1my\u001b[22mp\u001b[1me\u001b[22md\n",
      "\n"
     ]
    },
    {
     "data": {
      "text/markdown": [
       "```\n",
       "eye([T::Type=Float64,] m::Integer, n::Integer)\n",
       "```\n",
       "\n",
       "`m`-by-`n` identity matrix. The default element type is [`Float64`](@ref).\n",
       "\n",
       "# Examples\n",
       "\n",
       "```jldoctest\n",
       "julia> eye(3, 4)\n",
       "3×4 Array{Float64,2}:\n",
       " 1.0  0.0  0.0  0.0\n",
       " 0.0  1.0  0.0  0.0\n",
       " 0.0  0.0  1.0  0.0\n",
       "\n",
       "julia> eye(2, 2)\n",
       "2×2 Array{Float64,2}:\n",
       " 1.0  0.0\n",
       " 0.0  1.0\n",
       "\n",
       "julia> eye(Int, 2, 2)\n",
       "2×2 Array{Int64,2}:\n",
       " 1  0\n",
       " 0  1\n",
       "```\n",
       "\n",
       "```\n",
       "eye(m, n)\n",
       "```\n",
       "\n",
       "`m`-by-`n` identity matrix.\n",
       "\n",
       "```\n",
       "eye([T::Type=Float64,] n::Integer)\n",
       "```\n",
       "\n",
       "`n`-by-`n` identity matrix. The default element type is [`Float64`](@ref).\n",
       "\n",
       "# Examples\n",
       "\n",
       "```jldoctest\n",
       "julia> eye(Int, 2)\n",
       "2×2 Array{Int64,2}:\n",
       " 1  0\n",
       " 0  1\n",
       "\n",
       "julia> eye(2)\n",
       "2×2 Array{Float64,2}:\n",
       " 1.0  0.0\n",
       " 0.0  1.0\n",
       "```\n",
       "\n",
       "```\n",
       "eye(A)\n",
       "```\n",
       "\n",
       "Constructs an identity matrix of the same dimensions and type as `A`.\n",
       "\n",
       "```jldoctest\n",
       "julia> A = [1 2 3; 4 5 6; 7 8 9]\n",
       "3×3 Array{Int64,2}:\n",
       " 1  2  3\n",
       " 4  5  6\n",
       " 7  8  9\n",
       "\n",
       "julia> eye(A)\n",
       "3×3 Array{Int64,2}:\n",
       " 1  0  0\n",
       " 0  1  0\n",
       " 0  0  1\n",
       "```\n",
       "\n",
       "Note the difference from [`ones`](@ref).\n"
      ],
      "text/plain": [
       "```\n",
       "eye([T::Type=Float64,] m::Integer, n::Integer)\n",
       "```\n",
       "\n",
       "`m`-by-`n` identity matrix. The default element type is [`Float64`](@ref).\n",
       "\n",
       "# Examples\n",
       "\n",
       "```jldoctest\n",
       "julia> eye(3, 4)\n",
       "3×4 Array{Float64,2}:\n",
       " 1.0  0.0  0.0  0.0\n",
       " 0.0  1.0  0.0  0.0\n",
       " 0.0  0.0  1.0  0.0\n",
       "\n",
       "julia> eye(2, 2)\n",
       "2×2 Array{Float64,2}:\n",
       " 1.0  0.0\n",
       " 0.0  1.0\n",
       "\n",
       "julia> eye(Int, 2, 2)\n",
       "2×2 Array{Int64,2}:\n",
       " 1  0\n",
       " 0  1\n",
       "```\n",
       "\n",
       "```\n",
       "eye(m, n)\n",
       "```\n",
       "\n",
       "`m`-by-`n` identity matrix.\n",
       "\n",
       "```\n",
       "eye([T::Type=Float64,] n::Integer)\n",
       "```\n",
       "\n",
       "`n`-by-`n` identity matrix. The default element type is [`Float64`](@ref).\n",
       "\n",
       "# Examples\n",
       "\n",
       "```jldoctest\n",
       "julia> eye(Int, 2)\n",
       "2×2 Array{Int64,2}:\n",
       " 1  0\n",
       " 0  1\n",
       "\n",
       "julia> eye(2)\n",
       "2×2 Array{Float64,2}:\n",
       " 1.0  0.0\n",
       " 0.0  1.0\n",
       "```\n",
       "\n",
       "```\n",
       "eye(A)\n",
       "```\n",
       "\n",
       "Constructs an identity matrix of the same dimensions and type as `A`.\n",
       "\n",
       "```jldoctest\n",
       "julia> A = [1 2 3; 4 5 6; 7 8 9]\n",
       "3×3 Array{Int64,2}:\n",
       " 1  2  3\n",
       " 4  5  6\n",
       " 7  8  9\n",
       "\n",
       "julia> eye(A)\n",
       "3×3 Array{Int64,2}:\n",
       " 1  0  0\n",
       " 0  1  0\n",
       " 0  0  1\n",
       "```\n",
       "\n",
       "Note the difference from [`ones`](@ref).\n"
      ]
     },
     "execution_count": 25,
     "metadata": {},
     "output_type": "execute_result"
    }
   ],
   "source": [
    "?eye"
   ]
  },
  {
   "cell_type": "markdown",
   "metadata": {},
   "source": [
    "# \"bits\""
   ]
  },
  {
   "cell_type": "markdown",
   "metadata": {},
   "source": [
    "Thanks to https://discourse.julialang.org/u/dlfivefifty for the tip. Bits returns a string representation of all the bits of a number. This is great for teaching. (Note, the name is changing to bitstring.)"
   ]
  },
  {
   "cell_type": "code",
   "execution_count": 26,
   "metadata": {
    "collapsed": false
   },
   "outputs": [
    {
     "data": {
      "text/plain": [
       "\"0000000000000000000000000000000000000000000000000000000000010001\""
      ]
     },
     "execution_count": 26,
     "metadata": {},
     "output_type": "execute_result"
    }
   ],
   "source": [
    "bits(17)"
   ]
  },
  {
   "cell_type": "code",
   "execution_count": 27,
   "metadata": {
    "collapsed": false
   },
   "outputs": [
    {
     "data": {
      "text/plain": [
       "\"01000001100010000000000000000000\""
      ]
     },
     "execution_count": 27,
     "metadata": {},
     "output_type": "execute_result"
    }
   ],
   "source": [
    "bits(Float32(17.0))"
   ]
  },
  {
   "cell_type": "code",
   "execution_count": 28,
   "metadata": {
    "collapsed": false
   },
   "outputs": [
    {
     "data": {
      "text/plain": [
       "\"01000010000010000000000000000000\""
      ]
     },
     "execution_count": 28,
     "metadata": {},
     "output_type": "execute_result"
    }
   ],
   "source": [
    "bits(Float32(17.0*2))"
   ]
  },
  {
   "cell_type": "code",
   "execution_count": 29,
   "metadata": {
    "collapsed": false
   },
   "outputs": [
    {
     "data": {
      "text/plain": [
       "\"00010001\""
      ]
     },
     "execution_count": 29,
     "metadata": {},
     "output_type": "execute_result"
    }
   ],
   "source": [
    "bits(Int8(17))"
   ]
  },
  {
   "cell_type": "code",
   "execution_count": 30,
   "metadata": {
    "collapsed": false
   },
   "outputs": [
    {
     "data": {
      "text/plain": [
       "\"00100010\""
      ]
     },
     "execution_count": 30,
     "metadata": {},
     "output_type": "execute_result"
    }
   ],
   "source": [
    "bits(Int8(17*2))"
   ]
  },
  {
   "cell_type": "markdown",
   "metadata": {},
   "source": [
    "## local scope"
   ]
  },
  {
   "cell_type": "code",
   "execution_count": 31,
   "metadata": {
    "collapsed": false
   },
   "outputs": [
    {
     "ename": "LoadError",
     "evalue": "\u001b[91mUndefVarError: x_for_this_loop_only not defined\u001b[39m",
     "output_type": "error",
     "traceback": [
      "\u001b[91mUndefVarError: x_for_this_loop_only not defined\u001b[39m",
      ""
     ]
    }
   ],
   "source": [
    "for i = 1:10\n",
    "    x_for_this_loop_only=10\n",
    "end\n",
    "display(x_for_this_loop_only)   # an error because it is not in scope any more!"
   ]
  },
  {
   "cell_type": "code",
   "execution_count": 32,
   "metadata": {
    "collapsed": false
   },
   "outputs": [
    {
     "data": {
      "text/plain": [
       "55"
      ]
     },
     "metadata": {},
     "output_type": "display_data"
    }
   ],
   "source": [
    "x_outside_loop=0  # if you want it outside the loop, you need to declare it\n",
    "for i = 1:10\n",
    "    x_outside_loop+=i\n",
    "end\n",
    "display(x_outside_loop)"
   ]
  },
  {
   "cell_type": "markdown",
   "metadata": {},
   "source": [
    "## vec is free - it just returns a reference"
   ]
  },
  {
   "cell_type": "code",
   "execution_count": 33,
   "metadata": {
    "collapsed": false
   },
   "outputs": [
    {
     "data": {
      "text/plain": [
       "1×4 Array{Int64,2}:\n",
       " 1  2  17  4"
      ]
     },
     "execution_count": 33,
     "metadata": {},
     "output_type": "execute_result"
    }
   ],
   "source": [
    "x = [1 2 3 4]\n",
    "xv = vec(x)\n",
    "xv[3]=17\n",
    "x"
   ]
  },
  {
   "cell_type": "markdown",
   "metadata": {},
   "source": [
    "## Julia has \"goto\""
   ]
  },
  {
   "cell_type": "code",
   "execution_count": 34,
   "metadata": {
    "collapsed": true
   },
   "outputs": [],
   "source": [
    "using Formatting"
   ]
  },
  {
   "cell_type": "code",
   "execution_count": 35,
   "metadata": {
    "collapsed": false
   },
   "outputs": [
    {
     "data": {
      "text/plain": [
       "loop_using_goto (generic function with 1 method)"
      ]
     },
     "execution_count": 35,
     "metadata": {},
     "output_type": "execute_result"
    }
   ],
   "source": [
    "function loop_using_goto()\n",
    "    i = 0\n",
    "    @label L10\n",
    "    printfmtln(\"i = {}\", i)\n",
    "    i += 1\n",
    "    if i>=5\n",
    "        @goto L20\n",
    "    end\n",
    "    @goto L10\n",
    "    @label L20\n",
    "    printfmtln(\"done!  i = {}\", i)\n",
    "end"
   ]
  },
  {
   "cell_type": "code",
   "execution_count": 36,
   "metadata": {
    "collapsed": false
   },
   "outputs": [
    {
     "name": "stdout",
     "output_type": "stream",
     "text": [
      "i = 0\n",
      "i = 1\n",
      "i = 2\n",
      "i = 3\n",
      "i = 4\n",
      "done!  i = 5\n"
     ]
    }
   ],
   "source": [
    "loop_using_goto()"
   ]
  }
 ],
 "metadata": {
  "kernelspec": {
   "display_name": "Julia 0.6.2",
   "language": "julia",
   "name": "julia-0.6"
  },
  "language_info": {
   "file_extension": ".jl",
   "mimetype": "application/julia",
   "name": "julia",
   "version": "0.6.2"
  }
 },
 "nbformat": 4,
 "nbformat_minor": 2
}
